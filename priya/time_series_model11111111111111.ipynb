{
 "cells": [
  {
   "cell_type": "code",
   "execution_count": null,
   "metadata": {
    "id": "090U_w03R4bA"
   },
   "outputs": [],
   "source": [
    "# Read -\n",
    "# https://neptune.ai/blog/select-model-for-time-series-prediction-task#:~:text=The%20first%20specificity%20of%20time,are%20specific%20to%20time%20series.\n",
    "# https://www.section.io/engineering-education/multivariate-time-series-using-auto-arima/"
   ]
  },
  {
   "cell_type": "code",
   "execution_count": 1,
   "metadata": {
    "colab": {
     "base_uri": "https://localhost:8080/"
    },
    "executionInfo": {
     "elapsed": 5112,
     "status": "ok",
     "timestamp": 1689743379752,
     "user": {
      "displayName": "prasad raghavendra",
      "userId": "09065291355798302660"
     },
     "user_tz": -330
    },
    "id": "vswm34Keg4Ke",
    "outputId": "14db4e84-1a6f-4ab4-c26d-58e4e4dad908"
   },
   "outputs": [],
   "source": [
    "#!pip install pmdarima"
   ]
  },
  {
   "cell_type": "code",
   "execution_count": null,
   "metadata": {
    "colab": {
     "base_uri": "https://localhost:8080/"
    },
    "executionInfo": {
     "elapsed": 2933,
     "status": "ok",
     "timestamp": 1689743382670,
     "user": {
      "displayName": "prasad raghavendra",
      "userId": "09065291355798302660"
     },
     "user_tz": -330
    },
    "id": "Rb66xKDAIrvP",
    "outputId": "8081f0a1-6a3c-4c55-91ba-91fbd8685a50"
   },
   "outputs": [],
   "source": []
  },
  {
   "cell_type": "code",
   "execution_count": 2,
   "metadata": {
    "executionInfo": {
     "elapsed": 19,
     "status": "ok",
     "timestamp": 1689743382672,
     "user": {
      "displayName": "prasad raghavendra",
      "userId": "09065291355798302660"
     },
     "user_tz": -330
    },
    "id": "zoAbFo40ItLv"
   },
   "outputs": [],
   "source": [
    "import warnings\n",
    "import itertools\n",
    "import numpy as np\n",
    "import pandas as pd\n",
    "from scipy import stats\n",
    "\n",
    "import matplotlib.pyplot as plt\n",
    "from sklearn.metrics import mean_squared_error\n",
    "\n",
    "from statsmodels.tsa.arima.model import ARIMA\n",
    "from statsmodels.tsa.stattools import adfuller\n",
    "from statsmodels.tsa.seasonal import seasonal_decompose\n",
    "\n",
    "from statsmodels.tsa.stattools import acf, pacf\n",
    "from statsmodels.graphics.tsaplots import plot_acf, plot_pacf\n",
    "\n",
    "import pmdarima as pm\n",
    "from pmdarima.model_selection import train_test_split\n",
    "from   datetime import  datetime, timedelta\n",
    "\n",
    "import statsmodels.api as sm\n",
    "\n",
    "plt.rcParams['figure.figsize']=[16,8]\n",
    "warnings.filterwarnings('ignore')"
   ]
  },
  {
   "cell_type": "code",
   "execution_count": 3,
   "metadata": {
    "executionInfo": {
     "elapsed": 18,
     "status": "ok",
     "timestamp": 1689743382673,
     "user": {
      "displayName": "prasad raghavendra",
      "userId": "09065291355798302660"
     },
     "user_tz": -330
    },
    "id": "-pgjomG1I10y"
   },
   "outputs": [],
   "source": [
    "%matplotlib inline\n",
    "import numpy as np\n",
    "from scipy import stats\n",
    "import pandas as pd\n",
    "import matplotlib.pyplot as plt\n",
    "\n",
    "import statsmodels.api as sm\n",
    "from statsmodels.graphics.api import qqplot\n",
    "\n",
    "plt.rcParams['figure.figsize']=[16,8]"
   ]
  },
  {
   "cell_type": "code",
   "execution_count": 4,
   "metadata": {
    "colab": {
     "base_uri": "https://localhost:8080/",
     "height": 237
    },
    "executionInfo": {
     "elapsed": 18,
     "status": "ok",
     "timestamp": 1689743382674,
     "user": {
      "displayName": "prasad raghavendra",
      "userId": "09065291355798302660"
     },
     "user_tz": -330
    },
    "id": "dk08Vg371CId",
    "outputId": "f14bf93f-66d7-4c23-9f4d-4c07fd040509"
   },
   "outputs": [
    {
     "data": {
      "text/html": [
       "<div>\n",
       "<style scoped>\n",
       "    .dataframe tbody tr th:only-of-type {\n",
       "        vertical-align: middle;\n",
       "    }\n",
       "\n",
       "    .dataframe tbody tr th {\n",
       "        vertical-align: top;\n",
       "    }\n",
       "\n",
       "    .dataframe thead th {\n",
       "        text-align: right;\n",
       "    }\n",
       "</style>\n",
       "<table border=\"1\" class=\"dataframe\">\n",
       "  <thead>\n",
       "    <tr style=\"text-align: right;\">\n",
       "      <th></th>\n",
       "      <th>ITEM ID</th>\n",
       "      <th>TIME M ID</th>\n",
       "      <th>TIME Y ID</th>\n",
       "      <th>STATE ID</th>\n",
       "      <th>PARTY ID</th>\n",
       "      <th>FABRIC KGS</th>\n",
       "      <th>FABRIC MTRS</th>\n",
       "      <th>SOLD KGS</th>\n",
       "      <th>SOLD MTRS</th>\n",
       "      <th>RATE</th>\n",
       "      <th>AMOUNT</th>\n",
       "    </tr>\n",
       "    <tr>\n",
       "      <th>TIME ID</th>\n",
       "      <th></th>\n",
       "      <th></th>\n",
       "      <th></th>\n",
       "      <th></th>\n",
       "      <th></th>\n",
       "      <th></th>\n",
       "      <th></th>\n",
       "      <th></th>\n",
       "      <th></th>\n",
       "      <th></th>\n",
       "      <th></th>\n",
       "    </tr>\n",
       "  </thead>\n",
       "  <tbody>\n",
       "    <tr>\n",
       "      <th>2019-04-01</th>\n",
       "      <td>60MESHHQ48\"WHITE</td>\n",
       "      <td>Apr</td>\n",
       "      <td>2019</td>\n",
       "      <td>GJ</td>\n",
       "      <td>ENTERPRISE  TRADING CO.,</td>\n",
       "      <td>NaN</td>\n",
       "      <td>NaN</td>\n",
       "      <td>70.32</td>\n",
       "      <td>630.0</td>\n",
       "      <td>96.0</td>\n",
       "      <td>30510.0</td>\n",
       "    </tr>\n",
       "    <tr>\n",
       "      <th>2019-04-01</th>\n",
       "      <td>LOTUS54\"MARINABLUE</td>\n",
       "      <td>Apr</td>\n",
       "      <td>2019</td>\n",
       "      <td>WB</td>\n",
       "      <td>SHEW PRATAP NATHMULL Co.,</td>\n",
       "      <td>531.4</td>\n",
       "      <td>10300.0</td>\n",
       "      <td>207.73</td>\n",
       "      <td>4000.0</td>\n",
       "      <td>24.0</td>\n",
       "      <td>48000.0</td>\n",
       "    </tr>\n",
       "    <tr>\n",
       "      <th>2019-04-01</th>\n",
       "      <td>20MESHMQ84\"ORANGE</td>\n",
       "      <td>Apr</td>\n",
       "      <td>2019</td>\n",
       "      <td>TN</td>\n",
       "      <td>ANNAI AGENCY</td>\n",
       "      <td>NaN</td>\n",
       "      <td>NaN</td>\n",
       "      <td>9.00</td>\n",
       "      <td>60.0</td>\n",
       "      <td>45.0</td>\n",
       "      <td>2700.0</td>\n",
       "    </tr>\n",
       "    <tr>\n",
       "      <th>2019-04-01</th>\n",
       "      <td>40MESHLQ42\"WHITE</td>\n",
       "      <td>Apr</td>\n",
       "      <td>2019</td>\n",
       "      <td>GJ</td>\n",
       "      <td>BARDOLIWAL TRADERS</td>\n",
       "      <td>722.9</td>\n",
       "      <td>10980.0</td>\n",
       "      <td>641.50</td>\n",
       "      <td>9600.0</td>\n",
       "      <td>201.0</td>\n",
       "      <td>187500.0</td>\n",
       "    </tr>\n",
       "    <tr>\n",
       "      <th>2019-04-01</th>\n",
       "      <td>20MESHMQ42\"BLACK</td>\n",
       "      <td>Apr</td>\n",
       "      <td>2019</td>\n",
       "      <td>OD</td>\n",
       "      <td>PATRA ENTERPRISES</td>\n",
       "      <td>NaN</td>\n",
       "      <td>NaN</td>\n",
       "      <td>527.40</td>\n",
       "      <td>6000.0</td>\n",
       "      <td>32.0</td>\n",
       "      <td>96000.0</td>\n",
       "    </tr>\n",
       "  </tbody>\n",
       "</table>\n",
       "</div>"
      ],
      "text/plain": [
       "                       ITEM ID TIME M ID  TIME Y ID STATE ID  \\\n",
       "TIME ID                                                        \n",
       "2019-04-01    60MESHHQ48\"WHITE       Apr       2019       GJ   \n",
       "2019-04-01  LOTUS54\"MARINABLUE       Apr       2019       WB   \n",
       "2019-04-01   20MESHMQ84\"ORANGE       Apr       2019       TN   \n",
       "2019-04-01    40MESHLQ42\"WHITE       Apr       2019       GJ   \n",
       "2019-04-01    20MESHMQ42\"BLACK       Apr       2019       OD   \n",
       "\n",
       "                             PARTY ID  FABRIC KGS  FABRIC MTRS  SOLD KGS  \\\n",
       "TIME ID                                                                    \n",
       "2019-04-01   ENTERPRISE  TRADING CO.,         NaN          NaN     70.32   \n",
       "2019-04-01  SHEW PRATAP NATHMULL Co.,       531.4      10300.0    207.73   \n",
       "2019-04-01               ANNAI AGENCY         NaN          NaN      9.00   \n",
       "2019-04-01         BARDOLIWAL TRADERS       722.9      10980.0    641.50   \n",
       "2019-04-01          PATRA ENTERPRISES         NaN          NaN    527.40   \n",
       "\n",
       "            SOLD MTRS   RATE    AMOUNT  \n",
       "TIME ID                                 \n",
       "2019-04-01      630.0   96.0   30510.0  \n",
       "2019-04-01     4000.0   24.0   48000.0  \n",
       "2019-04-01       60.0   45.0    2700.0  \n",
       "2019-04-01     9600.0  201.0  187500.0  \n",
       "2019-04-01     6000.0   32.0   96000.0  "
      ]
     },
     "execution_count": 4,
     "metadata": {},
     "output_type": "execute_result"
    }
   ],
   "source": [
    "df = pd.read_csv('MainData.csv')\n",
    "#df = df.drop(['STATE ID','FABRIC KGS','FABRIC MTRS',\t'SOLD KGS',\t'SOLD MTRS'], axis=1)\n",
    "df['TIME ID'] =  pd.to_datetime(df[\"TIME ID\"])\n",
    "df.sort_values(by='TIME ID', ascending = True, inplace=True)\n",
    "df = df.set_index('TIME ID')\n",
    "df.head()"
   ]
  },
  {
   "cell_type": "code",
   "execution_count": 5,
   "metadata": {
    "executionInfo": {
     "elapsed": 920,
     "status": "ok",
     "timestamp": 1689743383579,
     "user": {
      "displayName": "prasad raghavendra",
      "userId": "09065291355798302660"
     },
     "user_tz": -330
    },
    "id": "G-EFfzJ2PSV9"
   },
   "outputs": [],
   "source": [
    "##https://www.section.io/engineering-education/missing-values-in-time-series/"
   ]
  },
  {
   "cell_type": "code",
   "execution_count": 6,
   "metadata": {
    "colab": {
     "base_uri": "https://localhost:8080/",
     "height": 688
    },
    "executionInfo": {
     "elapsed": 50,
     "status": "ok",
     "timestamp": 1689743383581,
     "user": {
      "displayName": "prasad raghavendra",
      "userId": "09065291355798302660"
     },
     "user_tz": -330
    },
    "id": "k-JFHmhtady_",
    "outputId": "14cd8f2a-c976-4f1f-9baa-57ab07624911"
   },
   "outputs": [
    {
     "name": "stdout",
     "output_type": "stream",
     "text": [
      "ITEM ID           0\n",
      "TIME M ID         0\n",
      "TIME Y ID         0\n",
      "STATE ID        765\n",
      "PARTY ID        765\n",
      "FABRIC KGS     2620\n",
      "FABRIC MTRS    2620\n",
      "SOLD KGS        765\n",
      "SOLD MTRS       765\n",
      "RATE            765\n",
      "AMOUNT          765\n",
      "dtype: int64\n",
      "\n",
      "After\n",
      "ITEM ID           0\n",
      "TIME M ID         0\n",
      "TIME Y ID         0\n",
      "STATE ID          0\n",
      "PARTY ID          0\n",
      "FABRIC KGS     2620\n",
      "FABRIC MTRS    2620\n",
      "SOLD KGS        765\n",
      "SOLD MTRS       765\n",
      "RATE            765\n",
      "AMOUNT          765\n",
      "dtype: int64\n"
     ]
    },
    {
     "data": {
      "text/html": [
       "<div>\n",
       "<style scoped>\n",
       "    .dataframe tbody tr th:only-of-type {\n",
       "        vertical-align: middle;\n",
       "    }\n",
       "\n",
       "    .dataframe tbody tr th {\n",
       "        vertical-align: top;\n",
       "    }\n",
       "\n",
       "    .dataframe thead th {\n",
       "        text-align: right;\n",
       "    }\n",
       "</style>\n",
       "<table border=\"1\" class=\"dataframe\">\n",
       "  <thead>\n",
       "    <tr style=\"text-align: right;\">\n",
       "      <th></th>\n",
       "      <th>ITEM ID</th>\n",
       "      <th>TIME M ID</th>\n",
       "      <th>TIME Y ID</th>\n",
       "      <th>STATE ID</th>\n",
       "      <th>PARTY ID</th>\n",
       "      <th>FABRIC KGS</th>\n",
       "      <th>FABRIC MTRS</th>\n",
       "      <th>SOLD KGS</th>\n",
       "      <th>SOLD MTRS</th>\n",
       "      <th>RATE</th>\n",
       "      <th>AMOUNT</th>\n",
       "    </tr>\n",
       "    <tr>\n",
       "      <th>TIME ID</th>\n",
       "      <th></th>\n",
       "      <th></th>\n",
       "      <th></th>\n",
       "      <th></th>\n",
       "      <th></th>\n",
       "      <th></th>\n",
       "      <th></th>\n",
       "      <th></th>\n",
       "      <th></th>\n",
       "      <th></th>\n",
       "      <th></th>\n",
       "    </tr>\n",
       "  </thead>\n",
       "  <tbody>\n",
       "    <tr>\n",
       "      <th>2019-04-01</th>\n",
       "      <td>60MESHHQ48\"WHITE</td>\n",
       "      <td>Apr</td>\n",
       "      <td>2019</td>\n",
       "      <td>GJ</td>\n",
       "      <td>ENTERPRISE  TRADING CO.,</td>\n",
       "      <td>NaN</td>\n",
       "      <td>NaN</td>\n",
       "      <td>70.32</td>\n",
       "      <td>630.0</td>\n",
       "      <td>96.0</td>\n",
       "      <td>30510.0</td>\n",
       "    </tr>\n",
       "    <tr>\n",
       "      <th>2019-04-01</th>\n",
       "      <td>LOTUS54\"MARINABLUE</td>\n",
       "      <td>Apr</td>\n",
       "      <td>2019</td>\n",
       "      <td>WB</td>\n",
       "      <td>SHEW PRATAP NATHMULL Co.,</td>\n",
       "      <td>531.4</td>\n",
       "      <td>10300.0</td>\n",
       "      <td>207.73</td>\n",
       "      <td>4000.0</td>\n",
       "      <td>24.0</td>\n",
       "      <td>48000.0</td>\n",
       "    </tr>\n",
       "    <tr>\n",
       "      <th>2019-04-01</th>\n",
       "      <td>20MESHMQ84\"ORANGE</td>\n",
       "      <td>Apr</td>\n",
       "      <td>2019</td>\n",
       "      <td>TN</td>\n",
       "      <td>ANNAI AGENCY</td>\n",
       "      <td>NaN</td>\n",
       "      <td>NaN</td>\n",
       "      <td>9.00</td>\n",
       "      <td>60.0</td>\n",
       "      <td>45.0</td>\n",
       "      <td>2700.0</td>\n",
       "    </tr>\n",
       "    <tr>\n",
       "      <th>2019-04-01</th>\n",
       "      <td>40MESHLQ42\"WHITE</td>\n",
       "      <td>Apr</td>\n",
       "      <td>2019</td>\n",
       "      <td>GJ</td>\n",
       "      <td>BARDOLIWAL TRADERS</td>\n",
       "      <td>722.9</td>\n",
       "      <td>10980.0</td>\n",
       "      <td>641.50</td>\n",
       "      <td>9600.0</td>\n",
       "      <td>201.0</td>\n",
       "      <td>187500.0</td>\n",
       "    </tr>\n",
       "    <tr>\n",
       "      <th>2019-04-01</th>\n",
       "      <td>20MESHMQ42\"BLACK</td>\n",
       "      <td>Apr</td>\n",
       "      <td>2019</td>\n",
       "      <td>OD</td>\n",
       "      <td>PATRA ENTERPRISES</td>\n",
       "      <td>NaN</td>\n",
       "      <td>NaN</td>\n",
       "      <td>527.40</td>\n",
       "      <td>6000.0</td>\n",
       "      <td>32.0</td>\n",
       "      <td>96000.0</td>\n",
       "    </tr>\n",
       "  </tbody>\n",
       "</table>\n",
       "</div>"
      ],
      "text/plain": [
       "                       ITEM ID TIME M ID  TIME Y ID STATE ID  \\\n",
       "TIME ID                                                        \n",
       "2019-04-01    60MESHHQ48\"WHITE       Apr       2019       GJ   \n",
       "2019-04-01  LOTUS54\"MARINABLUE       Apr       2019       WB   \n",
       "2019-04-01   20MESHMQ84\"ORANGE       Apr       2019       TN   \n",
       "2019-04-01    40MESHLQ42\"WHITE       Apr       2019       GJ   \n",
       "2019-04-01    20MESHMQ42\"BLACK       Apr       2019       OD   \n",
       "\n",
       "                             PARTY ID  FABRIC KGS  FABRIC MTRS  SOLD KGS  \\\n",
       "TIME ID                                                                    \n",
       "2019-04-01   ENTERPRISE  TRADING CO.,         NaN          NaN     70.32   \n",
       "2019-04-01  SHEW PRATAP NATHMULL Co.,       531.4      10300.0    207.73   \n",
       "2019-04-01               ANNAI AGENCY         NaN          NaN      9.00   \n",
       "2019-04-01         BARDOLIWAL TRADERS       722.9      10980.0    641.50   \n",
       "2019-04-01          PATRA ENTERPRISES         NaN          NaN    527.40   \n",
       "\n",
       "            SOLD MTRS   RATE    AMOUNT  \n",
       "TIME ID                                 \n",
       "2019-04-01      630.0   96.0   30510.0  \n",
       "2019-04-01     4000.0   24.0   48000.0  \n",
       "2019-04-01       60.0   45.0    2700.0  \n",
       "2019-04-01     9600.0  201.0  187500.0  \n",
       "2019-04-01     6000.0   32.0   96000.0  "
      ]
     },
     "execution_count": 6,
     "metadata": {},
     "output_type": "execute_result"
    }
   ],
   "source": [
    "#Missing values\n",
    "print(df.isnull().sum())\n",
    "\n",
    "# Treat empty values with UNKNOWN String\n",
    "df['PARTY ID'] = df['PARTY ID'].replace(to_replace=np.nan, value='UNKNOWN PARTY')\n",
    "df['STATE ID'] = df['STATE ID'].replace(to_replace=np.nan, value='UNKNOWN STATE')\n",
    "df.isnull().sum()\n",
    "print(\"\\nAfter\")\n",
    "print(df.isnull().sum())\n",
    "df.head()"
   ]
  },
  {
   "cell_type": "code",
   "execution_count": 7,
   "metadata": {
    "colab": {
     "base_uri": "https://localhost:8080/"
    },
    "executionInfo": {
     "elapsed": 51,
     "status": "ok",
     "timestamp": 1689743383588,
     "user": {
      "displayName": "prasad raghavendra",
      "userId": "09065291355798302660"
     },
     "user_tz": -330
    },
    "id": "qj3NpQRU72lk",
    "outputId": "c53e981d-b5e9-4579-8bec-972c18dc123a"
   },
   "outputs": [
    {
     "data": {
      "text/plain": [
       "array(['ENTERPRISE  TRADING CO.,', 'SHEW PRATAP NATHMULL Co.,',\n",
       "       'ANNAI AGENCY', 'BARDOLIWAL TRADERS', 'PATRA ENTERPRISES',\n",
       "       'ANANTADEB MADANMOHAN & CO.,', 'SONITE CORPORATION',\n",
       "       'NANDI POLYMERS', 'SRI BALAJI TRADING CO.,', 'GAYATHRI AGENCIES',\n",
       "       'ROYAL SALES', 'ANJAN AGENCIES', 'A.R.TRADERS',\n",
       "       'PEEKAY ENTERPRISES', 'UNKNOWN PARTY', 'VISHNU METAL FINISHERS',\n",
       "       'FAIR DEAL TRADERS', 'V.N.METAL FINISHERS',\n",
       "       'HIREN TRADING CO. - UJALA CIRCLE',\n",
       "       'ASHOK HARDWARE & ALLIED PRODUCTS', 'SUDHARSHAN PLASTIC COMPANY',\n",
       "       'SIRAJ BARDANA STORE', 'AGRO SHADE NETS', 'FRESH PICK FARMS',\n",
       "       'JAYKAY AQUA TECH', 'DURGA KARTIKEYA GENERAL STORES',\n",
       "       'SRI VENKATESHWARA FIBRE UDYOG PVT LTD.', 'SRINIVASA NYLON NETS',\n",
       "       'RAGHUNATH AGARWALA', 'POLASANAPALLI & CO.,',\n",
       "       'Ashok Agro Agencies', 'Shree Palathu Karuppana Swamy Trust',\n",
       "       'Shubham Sales', 'BALAJI TEXTILE', 'LUCKY AGRO AGENCIES',\n",
       "       'MTR Foods Private Limited', 'MTR Foods Private Limited # TRAD',\n",
       "       'SATHYAMOORTHY ENTERPRISES', 'S.R.ENTERPRISES', 'VASAVI TRADERS',\n",
       "       'INDO SWISS ANTI SHOCK LTD.', 'MANI ENTERPRISES', 'TULSI TRADERS',\n",
       "       'S.N. METAL FINISHERS - OLD', 'DISHAN TEXTILES',\n",
       "       'GUGANRAM SATNARAIN', 'DILIP DEBNATH', 'LUCKY STORES,',\n",
       "       'N.K. TRADE LINK PVT LTD', 'KANAKA DURGA GENERAL STORES',\n",
       "       'M.K PANDURANGA SHETTY & CO,', 'Md. Tajuddin', 'POOJA AGENCIES',\n",
       "       'NATIONAL SYNTHETIC FISHING MATERIALS', 'Parameshwar Rao Traders',\n",
       "       'RUDRAPPA,', 'General Stores', 'MULTI TRADELINKS',\n",
       "       'GOUTAM ENTERPRISES', 'MARINE SUPPLY COMPANY', 'YASH AGENCIES',\n",
       "       'DAS & KUMARS', 'VENKATESHWARA GENERATORES', 'ENFIBRE INDUSTRIES',\n",
       "       'ANUSH FILTERS  & FABRICS', 'FISHMAT AGRICULTURAL WORKS',\n",
       "       'Noor & co,', 'SRILAL PACHISIA & Co.,',\n",
       "       'BOSSMAN INSTRUMENT TECHNOLOGY', 'SRI VEERABHADRA ENTERPRISES',\n",
       "       'UMESH.S', 'ESSEM  MULTISPINDLE  AUTOMATS', 'TRINITY ENTERPRISES',\n",
       "       'RAVI FOOD AND SPICE  SPECIALTIES', 'BISMI PIPES', 'A.G. Rangaiah',\n",
       "       'K. AHMED & CO.', 'DHAWAN DISTRIBUTORS', 'SITAI AGRI INPUTS',\n",
       "       'S.N. METAL FINISHERS', 'UNIVERSAL PLATERS', 'K.S.R ENTERPRISES',\n",
       "       'K.G.N.'], dtype=object)"
      ]
     },
     "execution_count": 7,
     "metadata": {},
     "output_type": "execute_result"
    }
   ],
   "source": [
    "df['PARTY ID'].unique()"
   ]
  },
  {
   "cell_type": "code",
   "execution_count": 8,
   "metadata": {
    "colab": {
     "base_uri": "https://localhost:8080/",
     "height": 237
    },
    "executionInfo": {
     "elapsed": 49,
     "status": "ok",
     "timestamp": 1689743383590,
     "user": {
      "displayName": "prasad raghavendra",
      "userId": "09065291355798302660"
     },
     "user_tz": -330
    },
    "id": "gE8o9XQ77qqU",
    "outputId": "ea11496b-163e-4b8a-b194-5958844f8303"
   },
   "outputs": [
    {
     "data": {
      "text/html": [
       "<div>\n",
       "<style scoped>\n",
       "    .dataframe tbody tr th:only-of-type {\n",
       "        vertical-align: middle;\n",
       "    }\n",
       "\n",
       "    .dataframe tbody tr th {\n",
       "        vertical-align: top;\n",
       "    }\n",
       "\n",
       "    .dataframe thead th {\n",
       "        text-align: right;\n",
       "    }\n",
       "</style>\n",
       "<table border=\"1\" class=\"dataframe\">\n",
       "  <thead>\n",
       "    <tr style=\"text-align: right;\">\n",
       "      <th></th>\n",
       "      <th>ITEM ID</th>\n",
       "      <th>STATE ID</th>\n",
       "      <th>PARTY ID</th>\n",
       "      <th>FABRIC KGS</th>\n",
       "      <th>FABRIC MTRS</th>\n",
       "      <th>SOLD KGS</th>\n",
       "      <th>SOLD MTRS</th>\n",
       "      <th>RATE</th>\n",
       "      <th>AMOUNT</th>\n",
       "    </tr>\n",
       "    <tr>\n",
       "      <th>TIME ID</th>\n",
       "      <th></th>\n",
       "      <th></th>\n",
       "      <th></th>\n",
       "      <th></th>\n",
       "      <th></th>\n",
       "      <th></th>\n",
       "      <th></th>\n",
       "      <th></th>\n",
       "      <th></th>\n",
       "    </tr>\n",
       "  </thead>\n",
       "  <tbody>\n",
       "    <tr>\n",
       "      <th>2019-04-01</th>\n",
       "      <td>LOTUS54\"MARINABLUE</td>\n",
       "      <td>WB</td>\n",
       "      <td>SHEW PRATAP NATHMULL Co.,</td>\n",
       "      <td>531.4</td>\n",
       "      <td>10300.0</td>\n",
       "      <td>207.73</td>\n",
       "      <td>4000.0</td>\n",
       "      <td>24.0</td>\n",
       "      <td>48000.0</td>\n",
       "    </tr>\n",
       "    <tr>\n",
       "      <th>2019-04-01</th>\n",
       "      <td>HF54\"V/IV</td>\n",
       "      <td>WB</td>\n",
       "      <td>SHEW PRATAP NATHMULL Co.,</td>\n",
       "      <td>NaN</td>\n",
       "      <td>NaN</td>\n",
       "      <td>26.14</td>\n",
       "      <td>600.0</td>\n",
       "      <td>20.0</td>\n",
       "      <td>6000.0</td>\n",
       "    </tr>\n",
       "    <tr>\n",
       "      <th>2019-04-01</th>\n",
       "      <td>KANGAROO84\"BLUE</td>\n",
       "      <td>WB</td>\n",
       "      <td>SHEW PRATAP NATHMULL Co.,</td>\n",
       "      <td>NaN</td>\n",
       "      <td>NaN</td>\n",
       "      <td>316.42</td>\n",
       "      <td>2500.0</td>\n",
       "      <td>65.0</td>\n",
       "      <td>79500.0</td>\n",
       "    </tr>\n",
       "    <tr>\n",
       "      <th>2019-04-01</th>\n",
       "      <td>PF54\"LSG</td>\n",
       "      <td>WB</td>\n",
       "      <td>SHEW PRATAP NATHMULL Co.,</td>\n",
       "      <td>NaN</td>\n",
       "      <td>NaN</td>\n",
       "      <td>332.69</td>\n",
       "      <td>4500.0</td>\n",
       "      <td>33.0</td>\n",
       "      <td>74250.0</td>\n",
       "    </tr>\n",
       "    <tr>\n",
       "      <th>2019-04-01</th>\n",
       "      <td>30MESHLQ42\"GREEN</td>\n",
       "      <td>WB</td>\n",
       "      <td>SHEW PRATAP NATHMULL Co.,</td>\n",
       "      <td>NaN</td>\n",
       "      <td>NaN</td>\n",
       "      <td>888.61</td>\n",
       "      <td>18000.0</td>\n",
       "      <td>91.0</td>\n",
       "      <td>234000.0</td>\n",
       "    </tr>\n",
       "  </tbody>\n",
       "</table>\n",
       "</div>"
      ],
      "text/plain": [
       "                       ITEM ID STATE ID                   PARTY ID  \\\n",
       "TIME ID                                                              \n",
       "2019-04-01  LOTUS54\"MARINABLUE       WB  SHEW PRATAP NATHMULL Co.,   \n",
       "2019-04-01           HF54\"V/IV       WB  SHEW PRATAP NATHMULL Co.,   \n",
       "2019-04-01     KANGAROO84\"BLUE       WB  SHEW PRATAP NATHMULL Co.,   \n",
       "2019-04-01            PF54\"LSG       WB  SHEW PRATAP NATHMULL Co.,   \n",
       "2019-04-01    30MESHLQ42\"GREEN       WB  SHEW PRATAP NATHMULL Co.,   \n",
       "\n",
       "            FABRIC KGS  FABRIC MTRS  SOLD KGS  SOLD MTRS  RATE    AMOUNT  \n",
       "TIME ID                                                                   \n",
       "2019-04-01       531.4      10300.0    207.73     4000.0  24.0   48000.0  \n",
       "2019-04-01         NaN          NaN     26.14      600.0  20.0    6000.0  \n",
       "2019-04-01         NaN          NaN    316.42     2500.0  65.0   79500.0  \n",
       "2019-04-01         NaN          NaN    332.69     4500.0  33.0   74250.0  \n",
       "2019-04-01         NaN          NaN    888.61    18000.0  91.0  234000.0  "
      ]
     },
     "execution_count": 8,
     "metadata": {},
     "output_type": "execute_result"
    }
   ],
   "source": [
    "#The data is with respect to each party, itemID, so forecasting the price for only one party\n",
    "df_m = df.drop(['TIME M ID','TIME Y ID'], axis=1)\n",
    "df_m = df_m.loc[df['PARTY ID'] == 'SHEW PRATAP NATHMULL Co.,']\n",
    "#df_m = df_m.loc[df['PARTY ID'] == 'ENTERPRISE  TRADING CO.,']\n",
    "#df_m = df_m.loc[df['PARTY ID'] == 'SRILAL PACHISIA & Co.,']\n",
    "#df_m = df_m.loc[df['PARTY ID'] == 'SRI VENKATESHWARA FIBRE UDYOG PVT LTD.']\n",
    "df_m.head()"
   ]
  },
  {
   "cell_type": "code",
   "execution_count": 9,
   "metadata": {
    "colab": {
     "base_uri": "https://localhost:8080/",
     "height": 411
    },
    "executionInfo": {
     "elapsed": 47,
     "status": "ok",
     "timestamp": 1689743383591,
     "user": {
      "displayName": "prasad raghavendra",
      "userId": "09065291355798302660"
     },
     "user_tz": -330
    },
    "id": "rni3aBKaI66A",
    "outputId": "7494ea89-abcd-431a-e783-68de8686182e"
   },
   "outputs": [
    {
     "name": "stdout",
     "output_type": "stream",
     "text": [
      "ITEM ID        0\n",
      "STATE ID       0\n",
      "PARTY ID       0\n",
      "FABRIC KGS     0\n",
      "FABRIC MTRS    0\n",
      "SOLD KGS       0\n",
      "SOLD MTRS      0\n",
      "RATE           0\n",
      "AMOUNT         0\n",
      "dtype: int64\n"
     ]
    },
    {
     "data": {
      "text/html": [
       "<div>\n",
       "<style scoped>\n",
       "    .dataframe tbody tr th:only-of-type {\n",
       "        vertical-align: middle;\n",
       "    }\n",
       "\n",
       "    .dataframe tbody tr th {\n",
       "        vertical-align: top;\n",
       "    }\n",
       "\n",
       "    .dataframe thead th {\n",
       "        text-align: right;\n",
       "    }\n",
       "</style>\n",
       "<table border=\"1\" class=\"dataframe\">\n",
       "  <thead>\n",
       "    <tr style=\"text-align: right;\">\n",
       "      <th></th>\n",
       "      <th>ITEM ID</th>\n",
       "      <th>STATE ID</th>\n",
       "      <th>PARTY ID</th>\n",
       "      <th>FABRIC KGS</th>\n",
       "      <th>FABRIC MTRS</th>\n",
       "      <th>SOLD KGS</th>\n",
       "      <th>SOLD MTRS</th>\n",
       "      <th>RATE</th>\n",
       "      <th>AMOUNT</th>\n",
       "    </tr>\n",
       "    <tr>\n",
       "      <th>TIME ID</th>\n",
       "      <th></th>\n",
       "      <th></th>\n",
       "      <th></th>\n",
       "      <th></th>\n",
       "      <th></th>\n",
       "      <th></th>\n",
       "      <th></th>\n",
       "      <th></th>\n",
       "      <th></th>\n",
       "    </tr>\n",
       "  </thead>\n",
       "  <tbody>\n",
       "    <tr>\n",
       "      <th>2019-04-01</th>\n",
       "      <td>LOTUS54\"MARINABLUE</td>\n",
       "      <td>WB</td>\n",
       "      <td>SHEW PRATAP NATHMULL Co.,</td>\n",
       "      <td>531.40</td>\n",
       "      <td>10300.0</td>\n",
       "      <td>207.73</td>\n",
       "      <td>4000.0</td>\n",
       "      <td>24.0</td>\n",
       "      <td>48000.0</td>\n",
       "    </tr>\n",
       "    <tr>\n",
       "      <th>2019-04-01</th>\n",
       "      <td>HF54\"V/IV</td>\n",
       "      <td>WB</td>\n",
       "      <td>SHEW PRATAP NATHMULL Co.,</td>\n",
       "      <td>474.26</td>\n",
       "      <td>9510.0</td>\n",
       "      <td>26.14</td>\n",
       "      <td>600.0</td>\n",
       "      <td>20.0</td>\n",
       "      <td>6000.0</td>\n",
       "    </tr>\n",
       "    <tr>\n",
       "      <th>2019-04-01</th>\n",
       "      <td>KANGAROO84\"BLUE</td>\n",
       "      <td>WB</td>\n",
       "      <td>SHEW PRATAP NATHMULL Co.,</td>\n",
       "      <td>417.12</td>\n",
       "      <td>8720.0</td>\n",
       "      <td>316.42</td>\n",
       "      <td>2500.0</td>\n",
       "      <td>65.0</td>\n",
       "      <td>79500.0</td>\n",
       "    </tr>\n",
       "    <tr>\n",
       "      <th>2019-04-01</th>\n",
       "      <td>PF54\"LSG</td>\n",
       "      <td>WB</td>\n",
       "      <td>SHEW PRATAP NATHMULL Co.,</td>\n",
       "      <td>359.98</td>\n",
       "      <td>7930.0</td>\n",
       "      <td>332.69</td>\n",
       "      <td>4500.0</td>\n",
       "      <td>33.0</td>\n",
       "      <td>74250.0</td>\n",
       "    </tr>\n",
       "    <tr>\n",
       "      <th>2019-04-01</th>\n",
       "      <td>30MESHLQ42\"GREEN</td>\n",
       "      <td>WB</td>\n",
       "      <td>SHEW PRATAP NATHMULL Co.,</td>\n",
       "      <td>302.84</td>\n",
       "      <td>7140.0</td>\n",
       "      <td>888.61</td>\n",
       "      <td>18000.0</td>\n",
       "      <td>91.0</td>\n",
       "      <td>234000.0</td>\n",
       "    </tr>\n",
       "  </tbody>\n",
       "</table>\n",
       "</div>"
      ],
      "text/plain": [
       "                       ITEM ID STATE ID                   PARTY ID  \\\n",
       "TIME ID                                                              \n",
       "2019-04-01  LOTUS54\"MARINABLUE       WB  SHEW PRATAP NATHMULL Co.,   \n",
       "2019-04-01           HF54\"V/IV       WB  SHEW PRATAP NATHMULL Co.,   \n",
       "2019-04-01     KANGAROO84\"BLUE       WB  SHEW PRATAP NATHMULL Co.,   \n",
       "2019-04-01            PF54\"LSG       WB  SHEW PRATAP NATHMULL Co.,   \n",
       "2019-04-01    30MESHLQ42\"GREEN       WB  SHEW PRATAP NATHMULL Co.,   \n",
       "\n",
       "            FABRIC KGS  FABRIC MTRS  SOLD KGS  SOLD MTRS  RATE    AMOUNT  \n",
       "TIME ID                                                                   \n",
       "2019-04-01      531.40      10300.0    207.73     4000.0  24.0   48000.0  \n",
       "2019-04-01      474.26       9510.0     26.14      600.0  20.0    6000.0  \n",
       "2019-04-01      417.12       8720.0    316.42     2500.0  65.0   79500.0  \n",
       "2019-04-01      359.98       7930.0    332.69     4500.0  33.0   74250.0  \n",
       "2019-04-01      302.84       7140.0    888.61    18000.0  91.0  234000.0  "
      ]
     },
     "execution_count": 9,
     "metadata": {},
     "output_type": "execute_result"
    }
   ],
   "source": [
    "df_m['FABRIC KGS'].interpolate(method='linear', inplace=True)\n",
    "df_m['FABRIC MTRS'].interpolate(method='linear', inplace=True)\n",
    "df_m['SOLD KGS'].interpolate(method='linear', inplace=True)\n",
    "df_m['SOLD MTRS'].interpolate(method='linear', inplace=True)\n",
    "df_m['RATE'].interpolate(method='linear', inplace=True)\n",
    "df_m['AMOUNT'].interpolate(method='linear', inplace=True)\n",
    "print(df_m.isnull().sum())\n",
    "df_m.head()"
   ]
  },
  {
   "cell_type": "code",
   "execution_count": 10,
   "metadata": {
    "colab": {
     "base_uri": "https://localhost:8080/"
    },
    "executionInfo": {
     "elapsed": 42,
     "status": "ok",
     "timestamp": 1689743383592,
     "user": {
      "displayName": "prasad raghavendra",
      "userId": "09065291355798302660"
     },
     "user_tz": -330
    },
    "id": "mlAi5EhpOSUT",
    "outputId": "985a1281-9c49-4d50-a789-7e76d31d1941"
   },
   "outputs": [
    {
     "name": "stdout",
     "output_type": "stream",
     "text": [
      "ITEM ID        0\n",
      "STATE ID       0\n",
      "PARTY ID       0\n",
      "FABRIC KGS     0\n",
      "FABRIC MTRS    0\n",
      "SOLD KGS       0\n",
      "SOLD MTRS      0\n",
      "RATE           0\n",
      "AMOUNT         0\n",
      "dtype: int64\n"
     ]
    }
   ],
   "source": [
    "#https://stackoverflow.com/questions/35628291/how-can-you-interpolate-nan-values-if-first-few-rows-have-nan-values\n",
    "df_m['FABRIC KGS'].interpolate(method='bfill', inplace=True)\n",
    "df_m['FABRIC MTRS'].interpolate(method='bfill', inplace=True)\n",
    "print(df_m.isnull().sum())\n",
    "#df_m.head()"
   ]
  },
  {
   "cell_type": "code",
   "execution_count": null,
   "metadata": {
    "colab": {
     "base_uri": "https://localhost:8080/",
     "height": 885
    },
    "executionInfo": {
     "elapsed": 4997,
     "status": "ok",
     "timestamp": 1689743388549,
     "user": {
      "displayName": "prasad raghavendra",
      "userId": "09065291355798302660"
     },
     "user_tz": -330
    },
    "id": "MypSjgMF9PJ2",
    "outputId": "597e080b-d4f3-4dd7-cdf7-70736e6072c3"
   },
   "outputs": [
    {
     "name": "stdout",
     "output_type": "stream",
     "text": [
      "FABRIC KGS     0\n",
      "FABRIC MTRS    0\n",
      "SOLD KGS       0\n",
      "SOLD MTRS      0\n",
      "RATE           0\n",
      "AMOUNT         0\n",
      "dtype: int64\n"
     ]
    }
   ],
   "source": [
    "#from sklearn.preprocessing import StandardScaler\n",
    "#df_m[['RATE', 'AMOUNT']] = StandardScaler().fit_transform(df_m[['RATE', 'AMOUNT']])\n",
    "\n",
    "df_m = df_m[['FABRIC KGS', 'FABRIC MTRS','SOLD KGS','SOLD MTRS','RATE',\t'AMOUNT']]\n",
    "df_s = df_m.resample('M').mean()\n",
    "df_s['FABRIC KGS'].interpolate(method='bfill', inplace=True)\n",
    "df_s['FABRIC MTRS'].interpolate(method='bfill', inplace=True)\n",
    "df_s['SOLD KGS'].interpolate(method='bfill', inplace=True)\n",
    "df_s['SOLD MTRS'].interpolate(method='bfill', inplace=True)\n",
    "df_s['RATE'].interpolate(method='bfill', inplace=True)\n",
    "df_s['AMOUNT'].interpolate(method='bfill', inplace=True)\n",
    "\n",
    "print(df_s.isnull().sum())\n",
    "df_s.plot(subplots=True)"
   ]
  },
  {
   "cell_type": "code",
   "execution_count": null,
   "metadata": {
    "colab": {
     "base_uri": "https://localhost:8080/"
    },
    "executionInfo": {
     "elapsed": 10,
     "status": "ok",
     "timestamp": 1689743388550,
     "user": {
      "displayName": "prasad raghavendra",
      "userId": "09065291355798302660"
     },
     "user_tz": -330
    },
    "id": "7WrvDA8RfFwW",
    "outputId": "74b1e311-d50c-49ae-cd5f-66506c4e1a4a"
   },
   "outputs": [],
   "source": [
    "#Augmented Dickey-Fuller Test (ADF Test) to check the stationary of each variable in the dataset\n",
    "from statsmodels.tsa.stattools import adfuller\n",
    "\n",
    "def adfuller_test(series, sig=0.05, name=''):\n",
    "    res = adfuller(series, autolag='AIC')\n",
    "    p_value = round(res[1], 3)\n",
    "\n",
    "    if p_value <= sig:\n",
    "        print(f\" {name} : P-Value = {p_value} => Stationary. \")\n",
    "    else:\n",
    "        print(f\" {name} : P-Value = {p_value} => Non-stationary.\")\n",
    "\n",
    "for name, column in df_s.iteritems():\n",
    "    adfuller_test(column, name=column.name)"
   ]
  },
  {
   "cell_type": "code",
   "execution_count": null,
   "metadata": {
    "colab": {
     "base_uri": "https://localhost:8080/",
     "height": 807
    },
    "executionInfo": {
     "elapsed": 2048,
     "status": "ok",
     "timestamp": 1689743390590,
     "user": {
      "displayName": "prasad raghavendra",
      "userId": "09065291355798302660"
     },
     "user_tz": -330
    },
    "id": "Owq1Nn8xQy9Q",
    "outputId": "27fe96d4-74c6-411f-8c6e-8c8a776819c0"
   },
   "outputs": [],
   "source": [
    "from statsmodels.tsa.seasonal import seasonal_decompose\n",
    "result = seasonal_decompose(df_s['RATE'])\n",
    "result.plot();"
   ]
  },
  {
   "cell_type": "code",
   "execution_count": null,
   "metadata": {
    "colab": {
     "base_uri": "https://localhost:8080/",
     "height": 699
    },
    "executionInfo": {
     "elapsed": 943,
     "status": "ok",
     "timestamp": 1689743391527,
     "user": {
      "displayName": "prasad raghavendra",
      "userId": "09065291355798302660"
     },
     "user_tz": -330
    },
    "id": "v4KipnVARCxF",
    "outputId": "585e20c7-9c51-4b71-8e76-4759c70da20a"
   },
   "outputs": [],
   "source": [
    "from statsmodels.graphics.tsaplots import plot_acf\n",
    "plot_acf(df_s['RATE']);"
   ]
  },
  {
   "cell_type": "code",
   "execution_count": 928,
   "metadata": {
    "colab": {
     "base_uri": "https://localhost:8080/",
     "height": 699
    },
    "executionInfo": {
     "elapsed": 978,
     "status": "ok",
     "timestamp": 1689743392497,
     "user": {
      "displayName": "prasad raghavendra",
      "userId": "09065291355798302660"
     },
     "user_tz": -330
    },
    "id": "p19oxyVC4uMy",
    "outputId": "36e874a0-d4ea-4dbe-dc60-da9292f95f7a"
   },
   "outputs": [
    {
     "data": {
      "image/png": "[encoded data removed]",
      "text/plain": [
       "<Figure size 1600x800 with 1 Axes>"
      ]
     },
     "metadata": {},
     "output_type": "display_data"
    }
   ],
   "source": [
    "from statsmodels.graphics.tsaplots import plot_pacf\n",
    "plot_pacf(df_s['RATE']);"
   ]
  },
  {
   "cell_type": "code",
   "execution_count": 929,
   "metadata": {
    "executionInfo": {
     "elapsed": 20,
     "status": "ok",
     "timestamp": 1689743392499,
     "user": {
      "displayName": "prasad raghavendra",
      "userId": "09065291355798302660"
     },
     "user_tz": -330
    },
    "id": "R2HihB-q6Of8"
   },
   "outputs": [],
   "source": [
    "# https://www.analyticsvidhya.com/blog/2018/08/auto-arima-time-series-modeling-python-r/\n",
    "#https://pypi.org/project/pmdarima/\n",
    "#https://alkaline-ml.com/pmdarima/modules/generated/pmdarima.arima.auto_arima.html\n",
    "\n",
    "#!pip install pmdarima"
   ]
  },
  {
   "cell_type": "code",
   "execution_count": 930,
   "metadata": {
    "executionInfo": {
     "elapsed": 21,
     "status": "ok",
     "timestamp": 1689743392501,
     "user": {
      "displayName": "prasad raghavendra",
      "userId": "09065291355798302660"
     },
     "user_tz": -330
    },
    "id": "e_3T9vLd6Puj"
   },
   "outputs": [],
   "source": [
    "import pmdarima as pm\n",
    "from pmdarima.model_selection import train_test_split\n",
    "import numpy as np\n",
    "import matplotlib.pyplot as plt"
   ]
  },
  {
   "cell_type": "code",
   "execution_count": 931,
   "metadata": {
    "colab": {
     "base_uri": "https://localhost:8080/",
     "height": 331
    },
    "executionInfo": {
     "elapsed": 23,
     "status": "ok",
     "timestamp": 1689743392503,
     "user": {
      "displayName": "prasad raghavendra",
      "userId": "09065291355798302660"
     },
     "user_tz": -330
    },
    "id": "DLzPGvYmby6L",
    "outputId": "de9400e0-846f-481d-a418-58dcc9d24e53"
   },
   "outputs": [
    {
     "data": {
      "text/html": [
       "\n",
       "\n",
       "  <div id=\"df-89282bec-2093-467c-9a37-823d9f5aeee6\">\n",
       "    <div class=\"colab-df-container\">\n",
       "      <div>\n",
       "<style scoped>\n",
       "    .dataframe tbody tr th:only-of-type {\n",
       "        vertical-align: middle;\n",
       "    }\n",
       "\n",
       "    .dataframe tbody tr th {\n",
       "        vertical-align: top;\n",
       "    }\n",
       "\n",
       "    .dataframe thead th {\n",
       "        text-align: right;\n",
       "    }\n",
       "</style>\n",
       "<table border=\"1\" class=\"dataframe\">\n",
       "  <thead>\n",
       "    <tr style=\"text-align: right;\">\n",
       "      <th></th>\n",
       "      <th>FABRIC KGS</th>\n",
       "      <th>FABRIC MTRS</th>\n",
       "      <th>SOLD KGS</th>\n",
       "      <th>SOLD MTRS</th>\n",
       "      <th>RATE</th>\n",
       "      <th>AMOUNT</th>\n",
       "    </tr>\n",
       "    <tr>\n",
       "      <th>TIME ID</th>\n",
       "      <th></th>\n",
       "      <th></th>\n",
       "      <th></th>\n",
       "      <th></th>\n",
       "      <th></th>\n",
       "      <th></th>\n",
       "    </tr>\n",
       "  </thead>\n",
       "  <tbody>\n",
       "    <tr>\n",
       "      <th>2022-08-31</th>\n",
       "      <td>1505.300000</td>\n",
       "      <td>12213.000000</td>\n",
       "      <td>497.250000</td>\n",
       "      <td>4000.000000</td>\n",
       "      <td>160.000000</td>\n",
       "      <td>130000.000000</td>\n",
       "    </tr>\n",
       "    <tr>\n",
       "      <th>2022-09-30</th>\n",
       "      <td>1505.300000</td>\n",
       "      <td>12213.000000</td>\n",
       "      <td>497.250000</td>\n",
       "      <td>4000.000000</td>\n",
       "      <td>160.000000</td>\n",
       "      <td>130000.000000</td>\n",
       "    </tr>\n",
       "    <tr>\n",
       "      <th>2022-10-31</th>\n",
       "      <td>474.600000</td>\n",
       "      <td>6765.000000</td>\n",
       "      <td>193.126667</td>\n",
       "      <td>2533.333333</td>\n",
       "      <td>72.833333</td>\n",
       "      <td>54216.666667</td>\n",
       "    </tr>\n",
       "    <tr>\n",
       "      <th>2022-11-30</th>\n",
       "      <td>2155.150000</td>\n",
       "      <td>26350.000000</td>\n",
       "      <td>265.000000</td>\n",
       "      <td>1650.000000</td>\n",
       "      <td>89.500000</td>\n",
       "      <td>59700.000000</td>\n",
       "    </tr>\n",
       "    <tr>\n",
       "      <th>2022-12-31</th>\n",
       "      <td>2014.133333</td>\n",
       "      <td>27910.000000</td>\n",
       "      <td>3407.243333</td>\n",
       "      <td>47250.000000</td>\n",
       "      <td>258.000000</td>\n",
       "      <td>779500.000000</td>\n",
       "    </tr>\n",
       "    <tr>\n",
       "      <th>2023-01-31</th>\n",
       "      <td>1801.100000</td>\n",
       "      <td>37749.357143</td>\n",
       "      <td>736.148143</td>\n",
       "      <td>12698.571429</td>\n",
       "      <td>73.714286</td>\n",
       "      <td>174154.285714</td>\n",
       "    </tr>\n",
       "    <tr>\n",
       "      <th>2023-02-28</th>\n",
       "      <td>2111.625000</td>\n",
       "      <td>35605.916667</td>\n",
       "      <td>2462.832667</td>\n",
       "      <td>40508.333333</td>\n",
       "      <td>156.508333</td>\n",
       "      <td>597379.166667</td>\n",
       "    </tr>\n",
       "    <tr>\n",
       "      <th>2023-03-31</th>\n",
       "      <td>4015.842857</td>\n",
       "      <td>70023.214286</td>\n",
       "      <td>2231.067357</td>\n",
       "      <td>35495.000000</td>\n",
       "      <td>139.535714</td>\n",
       "      <td>530475.000000</td>\n",
       "    </tr>\n",
       "  </tbody>\n",
       "</table>\n",
       "</div>\n",
       "      <button class=\"colab-df-convert\" onclick=\"convertToInteractive('df-89282bec-2093-467c-9a37-823d9f5aeee6')\"\n",
       "              title=\"Convert this dataframe to an interactive table.\"\n",
       "              style=\"display:none;\">\n",
       "\n",
       "  <svg xmlns=\"http://www.w3.org/2000/svg\" height=\"24px\"viewBox=\"0 0 24 24\"\n",
       "       width=\"24px\">\n",
       "    <path d=\"M0 0h24v24H0V0z\" fill=\"none\"/>\n",
       "    <path d=\"M18.56 5.44l.94 2.06.94-2.06 2.06-.94-2.06-.94-.94-2.06-.94 2.06-2.06.94zm-11 1L8.5 8.5l.94-2.06 2.06-.94-2.06-.94L8.5 2.5l-.94 2.06-2.06.94zm10 10l.94 2.06.94-2.06 2.06-.94-2.06-.94-.94-2.06-.94 2.06-2.06.94z\"/><path d=\"M17.41 7.96l-1.37-1.37c-.4-.4-.92-.59-1.43-.59-.52 0-1.04.2-1.43.59L10.3 9.45l-7.72 7.72c-.78.78-.78 2.05 0 2.83L4 21.41c.39.39.9.59 1.41.59.51 0 1.02-.2 1.41-.59l7.78-7.78 2.81-2.81c.8-.78.8-2.07 0-2.86zM5.41 20L4 18.59l7.72-7.72 1.47 1.35L5.41 20z\"/>\n",
       "  </svg>\n",
       "      </button>\n",
       "\n",
       "\n",
       "\n",
       "    <div id=\"df-b8cd246d-1409-4ae8-81e4-379a739b2713\">\n",
       "      <button class=\"colab-df-quickchart\" onclick=\"quickchart('df-b8cd246d-1409-4ae8-81e4-379a739b2713')\"\n",
       "              title=\"Suggest charts.\"\n",
       "              style=\"display:none;\">\n",
       "\n",
       "<svg xmlns=\"http://www.w3.org/2000/svg\" height=\"24px\"viewBox=\"0 0 24 24\"\n",
       "     width=\"24px\">\n",
       "    <g>\n",
       "        <path d=\"M19 3H5c-1.1 0-2 .9-2 2v14c0 1.1.9 2 2 2h14c1.1 0 2-.9 2-2V5c0-1.1-.9-2-2-2zM9 17H7v-7h2v7zm4 0h-2V7h2v10zm4 0h-2v-4h2v4z\"/>\n",
       "    </g>\n",
       "</svg>\n",
       "      </button>\n",
       "    </div>\n",
       "\n",
       "<style>\n",
       "  .colab-df-quickchart {\n",
       "    background-color: #E8F0FE;\n",
       "    border: none;\n",
       "    border-radius: 50%;\n",
       "    cursor: pointer;\n",
       "    display: none;\n",
       "    fill: #1967D2;\n",
       "    height: 32px;\n",
       "    padding: 0 0 0 0;\n",
       "    width: 32px;\n",
       "  }\n",
       "\n",
       "  .colab-df-quickchart:hover {\n",
       "    background-color: #E2EBFA;\n",
       "    box-shadow: 0px 1px 2px rgba(60, 64, 67, 0.3), 0px 1px 3px 1px rgba(60, 64, 67, 0.15);\n",
       "    fill: #174EA6;\n",
       "  }\n",
       "\n",
       "  [theme=dark] .colab-df-quickchart {\n",
       "    background-color: #3B4455;\n",
       "    fill: #D2E3FC;\n",
       "  }\n",
       "\n",
       "  [theme=dark] .colab-df-quickchart:hover {\n",
       "    background-color: #434B5C;\n",
       "    box-shadow: 0px 1px 3px 1px rgba(0, 0, 0, 0.15);\n",
       "    filter: drop-shadow(0px 1px 2px rgba(0, 0, 0, 0.3));\n",
       "    fill: #FFFFFF;\n",
       "  }\n",
       "</style>\n",
       "\n",
       "    <script>\n",
       "      async function quickchart(key) {\n",
       "        const containerElement = document.querySelector('#' + key);\n",
       "        const charts = await google.colab.kernel.invokeFunction(\n",
       "            'suggestCharts', [key], {});\n",
       "      }\n",
       "    </script>\n",
       "\n",
       "      <script>\n",
       "\n",
       "function displayQuickchartButton(domScope) {\n",
       "  let quickchartButtonEl =\n",
       "    domScope.querySelector('#df-b8cd246d-1409-4ae8-81e4-379a739b2713 button.colab-df-quickchart');\n",
       "  quickchartButtonEl.style.display =\n",
       "    google.colab.kernel.accessAllowed ? 'block' : 'none';\n",
       "}\n",
       "\n",
       "        displayQuickchartButton(document);\n",
       "      </script>\n",
       "      <style>\n",
       "    .colab-df-container {\n",
       "      display:flex;\n",
       "      flex-wrap:wrap;\n",
       "      gap: 12px;\n",
       "    }\n",
       "\n",
       "    .colab-df-convert {\n",
       "      background-color: #E8F0FE;\n",
       "      border: none;\n",
       "      border-radius: 50%;\n",
       "      cursor: pointer;\n",
       "      display: none;\n",
       "      fill: #1967D2;\n",
       "      height: 32px;\n",
       "      padding: 0 0 0 0;\n",
       "      width: 32px;\n",
       "    }\n",
       "\n",
       "    .colab-df-convert:hover {\n",
       "      background-color: #E2EBFA;\n",
       "      box-shadow: 0px 1px 2px rgba(60, 64, 67, 0.3), 0px 1px 3px 1px rgba(60, 64, 67, 0.15);\n",
       "      fill: #174EA6;\n",
       "    }\n",
       "\n",
       "    [theme=dark] .colab-df-convert {\n",
       "      background-color: #3B4455;\n",
       "      fill: #D2E3FC;\n",
       "    }\n",
       "\n",
       "    [theme=dark] .colab-df-convert:hover {\n",
       "      background-color: #434B5C;\n",
       "      box-shadow: 0px 1px 3px 1px rgba(0, 0, 0, 0.15);\n",
       "      filter: drop-shadow(0px 1px 2px rgba(0, 0, 0, 0.3));\n",
       "      fill: #FFFFFF;\n",
       "    }\n",
       "  </style>\n",
       "\n",
       "      <script>\n",
       "        const buttonEl =\n",
       "          document.querySelector('#df-89282bec-2093-467c-9a37-823d9f5aeee6 button.colab-df-convert');\n",
       "        buttonEl.style.display =\n",
       "          google.colab.kernel.accessAllowed ? 'block' : 'none';\n",
       "\n",
       "        async function convertToInteractive(key) {\n",
       "          const element = document.querySelector('#df-89282bec-2093-467c-9a37-823d9f5aeee6');\n",
       "          const dataTable =\n",
       "            await google.colab.kernel.invokeFunction('convertToInteractive',\n",
       "                                                     [key], {});\n",
       "          if (!dataTable) return;\n",
       "\n",
       "          const docLinkHtml = 'Like what you see? Visit the ' +\n",
       "            '<a target=\"_blank\" href=https://colab.research.google.com/notebooks/data_table.ipynb>data table notebook</a>'\n",
       "            + ' to learn more about interactive tables.';\n",
       "          element.innerHTML = '';\n",
       "          dataTable['output_type'] = 'display_data';\n",
       "          await google.colab.output.renderOutput(dataTable, element);\n",
       "          const docLink = document.createElement('div');\n",
       "          docLink.innerHTML = docLinkHtml;\n",
       "          element.appendChild(docLink);\n",
       "        }\n",
       "      </script>\n",
       "    </div>\n",
       "  </div>\n"
      ],
      "text/plain": [
       "             FABRIC KGS   FABRIC MTRS     SOLD KGS     SOLD MTRS        RATE  \\\n",
       "TIME ID                                                                        \n",
       "2022-08-31  1505.300000  12213.000000   497.250000   4000.000000  160.000000   \n",
       "2022-09-30  1505.300000  12213.000000   497.250000   4000.000000  160.000000   \n",
       "2022-10-31   474.600000   6765.000000   193.126667   2533.333333   72.833333   \n",
       "2022-11-30  2155.150000  26350.000000   265.000000   1650.000000   89.500000   \n",
       "2022-12-31  2014.133333  27910.000000  3407.243333  47250.000000  258.000000   \n",
       "2023-01-31  1801.100000  37749.357143   736.148143  12698.571429   73.714286   \n",
       "2023-02-28  2111.625000  35605.916667  2462.832667  40508.333333  156.508333   \n",
       "2023-03-31  4015.842857  70023.214286  2231.067357  35495.000000  139.535714   \n",
       "\n",
       "                   AMOUNT  \n",
       "TIME ID                    \n",
       "2022-08-31  130000.000000  \n",
       "2022-09-30  130000.000000  \n",
       "2022-10-31   54216.666667  \n",
       "2022-11-30   59700.000000  \n",
       "2022-12-31  779500.000000  \n",
       "2023-01-31  174154.285714  \n",
       "2023-02-28  597379.166667  \n",
       "2023-03-31  530475.000000  "
      ]
     },
     "execution_count": 931,
     "metadata": {},
     "output_type": "execute_result"
    }
   ],
   "source": [
    "train=df_s[(df_s.index.get_level_values(0) >= '2019-04-01') & (df_s.index.get_level_values(0) <= '2022-08-01')]\n",
    "test=df_s[(df_s.index.get_level_values(0) > '2022-08-01')]\n",
    "test"
   ]
  },
  {
   "cell_type": "code",
   "execution_count": 932,
   "metadata": {
    "colab": {
     "base_uri": "https://localhost:8080/"
    },
    "executionInfo": {
     "elapsed": 36707,
     "status": "ok",
     "timestamp": 1689743429189,
     "user": {
      "displayName": "prasad raghavendra",
      "userId": "09065291355798302660"
     },
     "user_tz": -330
    },
    "id": "YirjJHB56Sad",
    "outputId": "07e8824f-7cc3-4e05-e189-25a3868fff44"
   },
   "outputs": [
    {
     "name": "stdout",
     "output_type": "stream",
     "text": [
      "Performing stepwise search to minimize aic\n",
      " ARIMA(0,1,0)(1,0,1)[12] intercept   : AIC=inf, Time=0.65 sec\n",
      " ARIMA(0,1,0)(0,0,0)[12] intercept   : AIC=460.898, Time=0.07 sec\n",
      " ARIMA(1,1,0)(1,0,0)[12] intercept   : AIC=459.294, Time=0.37 sec\n",
      " ARIMA(0,1,1)(0,0,1)[12] intercept   : AIC=inf, Time=0.58 sec\n",
      " ARIMA(0,1,0)(0,0,0)[12]             : AIC=458.901, Time=0.03 sec\n",
      " ARIMA(0,1,0)(1,0,0)[12] intercept   : AIC=462.264, Time=0.26 sec\n",
      " ARIMA(0,1,0)(0,0,1)[12] intercept   : AIC=461.770, Time=0.18 sec\n",
      " ARIMA(1,1,0)(0,0,0)[12] intercept   : AIC=457.419, Time=0.10 sec\n",
      " ARIMA(1,1,0)(0,0,1)[12] intercept   : AIC=459.004, Time=0.25 sec\n",
      " ARIMA(1,1,0)(1,0,1)[12] intercept   : AIC=inf, Time=1.26 sec\n",
      " ARIMA(2,1,0)(0,0,0)[12] intercept   : AIC=455.558, Time=0.27 sec\n",
      " ARIMA(2,1,0)(1,0,0)[12] intercept   : AIC=457.027, Time=0.71 sec\n",
      " ARIMA(2,1,0)(0,0,1)[12] intercept   : AIC=456.606, Time=0.42 sec\n",
      " ARIMA(2,1,0)(1,0,1)[12] intercept   : AIC=inf, Time=2.27 sec\n",
      " ARIMA(3,1,0)(0,0,0)[12] intercept   : AIC=453.469, Time=0.87 sec\n",
      " ARIMA(3,1,0)(1,0,0)[12] intercept   : AIC=455.321, Time=1.74 sec\n",
      " ARIMA(3,1,0)(0,0,1)[12] intercept   : AIC=455.105, Time=0.82 sec\n",
      " ARIMA(3,1,0)(1,0,1)[12] intercept   : AIC=inf, Time=1.07 sec\n",
      " ARIMA(4,1,0)(0,0,0)[12] intercept   : AIC=452.693, Time=0.37 sec\n",
      " ARIMA(4,1,0)(1,0,0)[12] intercept   : AIC=454.183, Time=1.11 sec\n",
      " ARIMA(4,1,0)(0,0,1)[12] intercept   : AIC=inf, Time=1.82 sec\n",
      " ARIMA(4,1,0)(1,0,1)[12] intercept   : AIC=inf, Time=1.98 sec\n",
      " ARIMA(5,1,0)(0,0,0)[12] intercept   : AIC=454.092, Time=0.63 sec\n",
      " ARIMA(4,1,1)(0,0,0)[12] intercept   : AIC=inf, Time=0.43 sec\n",
      " ARIMA(3,1,1)(0,0,0)[12] intercept   : AIC=inf, Time=0.52 sec\n",
      " ARIMA(5,1,1)(0,0,0)[12] intercept   : AIC=inf, Time=1.07 sec\n",
      " ARIMA(4,1,0)(0,0,0)[12]             : AIC=450.712, Time=0.32 sec\n",
      " ARIMA(4,1,0)(1,0,0)[12]             : AIC=452.206, Time=1.19 sec\n",
      " ARIMA(4,1,0)(0,0,1)[12]             : AIC=450.190, Time=1.30 sec\n",
      " ARIMA(4,1,0)(1,0,1)[12]             : AIC=inf, Time=2.87 sec\n",
      " ARIMA(4,1,0)(0,0,2)[12]             : AIC=inf, Time=2.61 sec\n",
      " ARIMA(4,1,0)(1,0,2)[12]             : AIC=inf, Time=2.68 sec\n",
      " ARIMA(3,1,0)(0,0,1)[12]             : AIC=453.124, Time=0.38 sec\n",
      " ARIMA(5,1,0)(0,0,1)[12]             : AIC=inf, Time=1.45 sec\n",
      " ARIMA(4,1,1)(0,0,1)[12]             : AIC=inf, Time=1.89 sec\n",
      " ARIMA(3,1,1)(0,0,1)[12]             : AIC=inf, Time=1.59 sec\n",
      " ARIMA(5,1,1)(0,0,1)[12]             : AIC=inf, Time=1.20 sec\n",
      "\n",
      "Best model:  ARIMA(4,1,0)(0,0,1)[12]          \n",
      "Total fit time: 37.510 seconds\n"
     ]
    }
   ],
   "source": [
    "model = pm.auto_arima(train['RATE'],\n",
    "                      m=12, seasonal=True,\n",
    "                      start_p=0, start_q=0, max_order=4, test='adf',error_action='ignore',\n",
    "                      suppress_warnings=True,\n",
    "                      stepwise=True, trace=True)"
   ]
  },
  {
   "cell_type": "code",
   "execution_count": 933,
   "metadata": {
    "colab": {
     "base_uri": "https://localhost:8080/"
    },
    "executionInfo": {
     "elapsed": 641,
     "status": "ok",
     "timestamp": 1689743429827,
     "user": {
      "displayName": "prasad raghavendra",
      "userId": "09065291355798302660"
     },
     "user_tz": -330
    },
    "id": "8BXBukiTBXVA",
    "outputId": "35aa1dc3-4d53-440a-9f1a-52f2f67fec78"
   },
   "outputs": [
    {
     "name": "stdout",
     "output_type": "stream",
     "text": [
      "                                      SARIMAX Results                                       \n",
      "============================================================================================\n",
      "Dep. Variable:                                    y   No. Observations:                   40\n",
      "Model:             SARIMAX(4, 1, 0)x(0, 0, [1], 12)   Log Likelihood                -219.095\n",
      "Date:                              Wed, 19 Jul 2023   AIC                            450.190\n",
      "Time:                                      05:10:29   BIC                            460.171\n",
      "Sample:                                  04-30-2019   HQIC                           453.771\n",
      "                                       - 07-31-2022                                         \n",
      "Covariance Type:                                opg                                         \n",
      "==============================================================================\n",
      "                 coef    std err          z      P>|z|      [0.025      0.975]\n",
      "------------------------------------------------------------------------------\n",
      "ar.L1         -0.6434      0.168     -3.838      0.000      -0.972      -0.315\n",
      "ar.L2         -0.6298      0.146     -4.312      0.000      -0.916      -0.344\n",
      "ar.L3         -0.4976      0.179     -2.776      0.005      -0.849      -0.146\n",
      "ar.L4         -0.4516      0.213     -2.119      0.034      -0.869      -0.034\n",
      "ma.S.L12      -0.8753      1.197     -0.732      0.464      -3.221       1.470\n",
      "sigma2      3064.8673   3352.710      0.914      0.361   -3506.323    9636.058\n",
      "===================================================================================\n",
      "Ljung-Box (L1) (Q):                   0.40   Jarque-Bera (JB):                 0.82\n",
      "Prob(Q):                              0.52   Prob(JB):                         0.66\n",
      "Heteroskedasticity (H):               0.61   Skew:                             0.32\n",
      "Prob(H) (two-sided):                  0.38   Kurtosis:                         3.29\n",
      "===================================================================================\n",
      "\n",
      "Warnings:\n",
      "[1] Covariance matrix calculated using the outer product of gradients (complex-step).\n"
     ]
    }
   ],
   "source": [
    "print(model.summary())"
   ]
  },
  {
   "cell_type": "code",
   "execution_count": 934,
   "metadata": {
    "executionInfo": {
     "elapsed": 9,
     "status": "ok",
     "timestamp": 1689743429828,
     "user": {
      "displayName": "prasad raghavendra",
      "userId": "09065291355798302660"
     },
     "user_tz": -330
    },
    "id": "HkfYZmaFWkz9"
   },
   "outputs": [],
   "source": [
    "# Accuracy metrics\n",
    "def forecast_accuracy(forecast, actual):\n",
    "    mape = np.mean(np.abs(forecast - actual)/np.abs(actual))  # MAPE\n",
    "    me = np.mean(forecast - actual)             # ME\n",
    "    mae = np.mean(np.abs(forecast - actual))    # MAE\n",
    "    mpe = np.mean((forecast - actual)/actual)   # MPE\n",
    "    rmse = np.mean((forecast - actual)**2)**.5  # RMSE\n",
    "    corr = np.corrcoef(forecast, actual)[0,1]   # corr\n",
    "    mins = np.amin(np.hstack([forecast[:,None],\n",
    "                              actual[:,None]]), axis=1)\n",
    "    maxs = np.amax(np.hstack([forecast[:,None],\n",
    "                              actual[:,None]]), axis=1)\n",
    "    minmax = 1 - np.mean(mins/maxs)             # minmax\n",
    "    return({'mape':mape, 'me':me, 'mae': mae,\n",
    "            'mpe': mpe, 'rmse':rmse,\n",
    "            'corr':corr, 'minmax':minmax})"
   ]
  },
  {
   "cell_type": "code",
   "execution_count": 935,
   "metadata": {
    "colab": {
     "base_uri": "https://localhost:8080/",
     "height": 729
    },
    "executionInfo": {
     "elapsed": 1072,
     "status": "ok",
     "timestamp": 1689743430892,
     "user": {
      "displayName": "prasad raghavendra",
      "userId": "09065291355798302660"
     },
     "user_tz": -330
    },
    "id": "N5dnAbd-ZjfS",
    "outputId": "8d69d1aa-7d63-428b-a176-d3369741c14c"
   },
   "outputs": [
    {
     "data": {
      "text/plain": [
       "<Axes: xlabel='TIME ID'>"
      ]
     },
     "execution_count": 935,
     "metadata": {},
     "output_type": "execute_result"
    },
    {
     "data": {
      "image/png": "[encoded data removed]",
      "text/plain": [
       "<Figure size 1600x800 with 1 Axes>"
      ]
     },
     "metadata": {},
     "output_type": "display_data"
    }
   ],
   "source": [
    "forecast=model.predict(n_periods=8,return_conf_int=True)\n",
    "forecast_df = pd.DataFrame(forecast[0],index = test.index,columns=['RATE Predict'])\n",
    "pd.concat([df_s['RATE'],forecast_df],axis=1).plot()"
   ]
  },
  {
   "cell_type": "code",
   "execution_count": 936,
   "metadata": {
    "colab": {
     "base_uri": "https://localhost:8080/"
    },
    "executionInfo": {
     "elapsed": 15,
     "status": "ok",
     "timestamp": 1689743430894,
     "user": {
      "displayName": "prasad raghavendra",
      "userId": "09065291355798302660"
     },
     "user_tz": -330
    },
    "id": "74c57HHcbU-x",
    "outputId": "0f0bb9ad-8092-4d95-a384-c3ac37159ac6"
   },
   "outputs": [
    {
     "name": "stdout",
     "output_type": "stream",
     "text": [
      "         rate  rate_predict\n",
      "0  160.000000     66.125600\n",
      "1  160.000000     79.420118\n",
      "2   72.833333    193.595924\n",
      "3   89.500000    118.891384\n",
      "4  258.000000     -3.440056\n",
      "5   73.714286    142.004587\n",
      "6  156.508333    111.441005\n",
      "7  139.535714    133.062063\n",
      "\n",
      "\n",
      "  Metrics       Value\n",
      "0    mape    0.668863\n",
      "1      me  -33.623880\n",
      "2     mae   88.234949\n",
      "3     mpe    0.059357\n",
      "4    rmse  115.021964\n",
      "5    corr   -0.913696\n",
      "6  minmax    0.473740\n"
     ]
    }
   ],
   "source": [
    "print(pd.DataFrame(dict( rate = test['RATE'].values, rate_predict = forecast_df['RATE Predict'].values)))\n",
    "print('\\n')\n",
    "print(pd.DataFrame(forecast_accuracy(forecast_df['RATE Predict'].values, test['RATE'].values).items(), columns=['Metrics', 'Value']))"
   ]
  },
  {
   "cell_type": "code",
   "execution_count": 937,
   "metadata": {
    "colab": {
     "base_uri": "https://localhost:8080/",
     "height": 693
    },
    "executionInfo": {
     "elapsed": 1246,
     "status": "ok",
     "timestamp": 1689743432130,
     "user": {
      "displayName": "prasad raghavendra",
      "userId": "09065291355798302660"
     },
     "user_tz": -330
    },
    "id": "MSfrLW8iCUoP",
    "outputId": "bfe7ad94-4f83-4fe3-ad96-7e4b64b71bd0"
   },
   "outputs": [
    {
     "data": {
      "text/plain": [
       "<Axes: >"
      ]
     },
     "execution_count": 937,
     "metadata": {},
     "output_type": "execute_result"
    },
    {
     "data": {
      "image/png": "[encoded data removed]",
      "text/plain": [
       "<Figure size 1600x800 with 1 Axes>"
      ]
     },
     "metadata": {},
     "output_type": "display_data"
    }
   ],
   "source": [
    "forecast1=model.predict(n_periods=13, return_conf_int=True)\n",
    "forecast_range=pd.date_range(start='2022-08-01', periods=13,freq='M')\n",
    "forecast1_df = pd.DataFrame(forecast1[0],index=forecast_range,columns=['RATE Forecast'])\n",
    "final_df = pd.concat([df_s['RATE'],forecast1_df],axis=1)\n",
    "final_df.plot()"
   ]
  }
 ],
 "metadata": {
  "colab": {
   "authorship_tag": "ABX9TyMrrA4ZDbLzG5Ju7XFKWeCs",
   "mount_file_id": "1mD-qvalg1pvZosnvW94cJDEQLpS6dooX",
   "provenance": []
  },
  "kernelspec": {
   "display_name": "Python 3 (ipykernel)",
   "language": "python",
   "name": "python3"
  },
  "language_info": {
   "codemirror_mode": {
    "name": "ipython",
    "version": 3
   },
   "file_extension": ".py",
   "mimetype": "text/x-python",
   "name": "python",
   "nbconvert_exporter": "python",
   "pygments_lexer": "ipython3",
   "version": "3.9.12"
  }
 },
 "nbformat": 4,
 "nbformat_minor": 1
}
